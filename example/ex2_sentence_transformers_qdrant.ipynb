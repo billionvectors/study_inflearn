{
 "cells": [
  {
   "cell_type": "markdown",
   "id": "026bd9e7-0c28-44ed-9499-e9972763cc7b",
   "metadata": {},
   "source": [
    "## 준비하기\n",
    "1. 아래 예제를 실행하기 위해서는 사전에 ./setup.sh 파일을 실행하거나 ./start_notebook.sh 로 노트북을 구동하여 의존성 라이브러리들을 미리 설치해두셔야 합니다.\n",
    "2. qdrant서버가 떠 있어야 정상 동작합니다. ./start_qdrant.sh 를 실행하여 qdrant 서버를 띄워주세요."
   ]
  },
  {
   "cell_type": "markdown",
   "id": "cc599c50-915b-4bc6-862b-5bea79c4e714",
   "metadata": {},
   "source": [
    "## 목적:\n",
    "- Sentence Transformers를 사용하여 텍스트 데이터를 벡터로 변환\n",
    "- 변환된 벡터를 Qdrant에 저장하여 검색 가능하게 만듦\n",
    "\n",
    "## 왜 필요한가?\n",
    "- 자연어 데이터를 벡터로 변환하면 고유한 의미를 인식하고 검색 가능해짐\n",
    "- AI 모델이 유사한 문장을 효과적으로 찾을 수 있도록 도와줌\n",
    "\n",
    "## 주요 개념:\n",
    "- **Sentence Transformers**: 텍스트를 의미론적 벡터로 변환하는 강력한 모델\n",
    "- **임베딩(Embedding)**: 텍스트, 이미지 등의 데이터를 고차원 벡터로 변환하는 과정\n",
    "- **유사도 검색(Similarity Search)**: 벡터 간 거리를 계산하여 유사한 항목을 찾는 기법"
   ]
  },
  {
   "cell_type": "code",
   "execution_count": 7,
   "id": "aaddefcf-e568-4d3f-b20d-715b8db97ffe",
   "metadata": {},
   "outputs": [],
   "source": [
    "# 라이브러리 로딩 (아래 부분에서 오류가 발생하면 pip -r ./requirements.txt 로 의존성을 설치해주세요)\n",
    "from langchain_huggingface import HuggingFaceEmbeddings\n",
    "from qdrant_client import QdrantClient, models\n",
    "from qdrant_client.models import Distance, VectorParams"
   ]
  },
  {
   "cell_type": "code",
   "execution_count": 3,
   "id": "614888a3-d090-4bb3-ad21-07d5d3ce4f62",
   "metadata": {},
   "outputs": [],
   "source": [
    "# Qdrant 클라이언트 연결 (아래에서 오류가 발생한다면 qdrant 서버를 띄워주세요)\n",
    "qdrant_client = QdrantClient(host=\"localhost\", port=6333)"
   ]
  },
  {
   "cell_type": "code",
   "execution_count": 4,
   "id": "051e2337-3730-41a6-8636-d3470b7498d5",
   "metadata": {},
   "outputs": [],
   "source": [
    "# 컬렉션 존재 여부 확인 후 생성 \n",
    "collection_name = \"ex2_sample_vectors\"\n",
    "\n",
    "if not qdrant_client.collection_exists(collection_name):\n",
    "    qdrant_client.create_collection(\n",
    "        collection_name=collection_name,\n",
    "        vectors_config=VectorParams(size=384, distance=Distance.COSINE)  # 384는 임베딩 차원 수\n",
    "    )"
   ]
  },
  {
   "cell_type": "code",
   "execution_count": 5,
   "id": "2e0a3dd5-69d4-4ed3-a3ff-95ec07f9332c",
   "metadata": {},
   "outputs": [],
   "source": [
    "# Sentence Transformers 임베딩 모델 로드\n",
    "embeddings = HuggingFaceEmbeddings(model_name=\"sentence-transformers/all-MiniLM-L6-v2\")"
   ]
  },
  {
   "cell_type": "code",
   "execution_count": 6,
   "id": "2dba6165-3249-446d-98a7-fa8058758e0a",
   "metadata": {},
   "outputs": [
    {
     "name": "stdout",
     "output_type": "stream",
     "text": [
      "모든 텍스트 데이터를 Qdrant에 저장 완료!\n"
     ]
    }
   ],
   "source": [
    "# 여러 개의 텍스트 데이터 준비\n",
    "text_data = [\n",
    "    \"Vector databases are powerful!\",\n",
    "    \"Qdrant is a fast and efficient vector search engine.\",\n",
    "    \"Sentence Transformers generate embeddings from text.\",\n",
    "    \"Search optimization using vector-based similarity.\"\n",
    "]\n",
    "\n",
    "# 각각의 텍스트를 벡터로 변환 후 Qdrant에 저장\n",
    "for i, text in enumerate(text_data):\n",
    "    embedding_vector = embeddings.embed_query(text)  # 변경된 임베딩 메서드 사용\n",
    "    qdrant_client.upsert(\n",
    "        collection_name=collection_name,\n",
    "        points=[\n",
    "            models.PointStruct(id=i, vector=embedding_vector, payload={\"text\": text})\n",
    "        ]\n",
    "    )\n",
    "\n",
    "print(\"모든 텍스트 데이터를 Qdrant에 저장 완료!\")"
   ]
  }
 ],
 "metadata": {
  "kernelspec": {
   "display_name": "Python 3 (ipykernel)",
   "language": "python",
   "name": "python3"
  },
  "language_info": {
   "codemirror_mode": {
    "name": "ipython",
    "version": 3
   },
   "file_extension": ".py",
   "mimetype": "text/x-python",
   "name": "python",
   "nbconvert_exporter": "python",
   "pygments_lexer": "ipython3",
   "version": "3.12.3"
  }
 },
 "nbformat": 4,
 "nbformat_minor": 5
}
