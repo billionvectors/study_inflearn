{
 "cells": [
  {
   "cell_type": "markdown",
   "id": "4a827815-783c-451f-89c4-acb1b7103f21",
   "metadata": {},
   "source": [
    "## 준비하기\n",
    "1. 아래 예제를 실행하기 위해서는 사전에 ./setup.sh 파일을 실행하거나 ./start_notebook.sh 로 노트북을 구동하여 의존성 라이브러리들을 미리 설치해두셔야 합니다.\n",
    "2. qdrant서버가 떠 있어야 정상 동작합니다. ./start_qdrant.sh 를 실행하여 qdrant 서버를 띄워주세요."
   ]
  },
  {
   "cell_type": "markdown",
   "id": "4fb8912b-70a5-4eac-a3e7-0f3f8c3bdf39",
   "metadata": {},
   "source": [
    "## 목적:\n",
    "- LangChain과 Qdrant를 사용하여 벡터 데이터를 int8 양자화하여 저장 및 검색\n",
    "- Qdrant에 텍스트 데이터를 벡터로 변환하고 int8로 양자화하여 저장\n",
    "- 사용자가 입력한 텍스트와 유사한 데이터를 검색\n",
    "\n",
    "## 왜 필요한가?\n",
    "- 벡터 기반 검색은 문서 검색, 챗봇, 추천 시스템 등에 필수적임\n",
    "- Qdrant는 고성능 벡터 검색을 지원하는 데이터베이스로, 양자화를 통해 저장 공간과 검색 속도를 최적화할 수 있음\n",
    "\n",
    "## 주요 개념:\n",
    "- **LangChain**: 자연어 처리(NLP)와 벡터 검색을 쉽게 결합할 수 있는 라이브러리\n",
    "- **Qdrant**: 밀집 벡터를 저장하고 빠르게 검색할 수 있는 오픈소스 벡터 데이터베이스\n",
    "- **벡터 양자화**: 벡터의 요소를 int8과 같은 저비트 데이터 타입으로 변환하여 저장 공간을 절약하고 검색 효율을 높이는 방법"
   ]
  },
  {
   "cell_type": "code",
   "execution_count": 2,
   "id": "6b67c458-0348-41b3-8264-fd0c1c1d8b84",
   "metadata": {},
   "outputs": [],
   "source": [
    "# 라이브러리 로딩 (아래 부분에서 오류가 발생하면 pip -r ./requirements.txt 로 의존성을 설치해주세요)\n",
    "import os\n",
    "from langchain_qdrant import QdrantVectorStore\n",
    "from qdrant_client import QdrantClient\n",
    "from qdrant_client.models import Distance, VectorParams, ScalarQuantization, ScalarQuantizationConfig, ScalarType\n",
    "from langchain_huggingface import HuggingFaceEmbeddings"
   ]
  },
  {
   "cell_type": "code",
   "execution_count": 3,
   "id": "f4d42437-16b4-44cd-af26-9d2ec70fadd4",
   "metadata": {},
   "outputs": [],
   "source": [
    "# Qdrant 서버 연결\n",
    "qdrant_client = QdrantClient(host=\"localhost\", port=6333)"
   ]
  },
  {
   "cell_type": "code",
   "execution_count": 4,
   "id": "fed3fa2c-ef1d-49e5-9d35-63d0e8ac847f",
   "metadata": {},
   "outputs": [
    {
     "name": "stdout",
     "output_type": "stream",
     "text": [
      "Qdrant 컬렉션 'ex10_quantized_vectors' 생성 완료!\n"
     ]
    }
   ],
   "source": [
    "collection_name = \"ex10_quantized_vectors\"\n",
    "\n",
    "# Qdrant 컬렉션 생성 (없을 경우 자동 생성)\n",
    "if not qdrant_client.collection_exists(collection_name):\n",
    "    qdrant_client.create_collection(\n",
    "        collection_name=collection_name,\n",
    "        vectors_config=VectorParams(\n",
    "            size=384,  # 벡터 차원 수 (임베딩 모델과 일치해야 함)\n",
    "            distance=Distance.COSINE,  # 유사도 계산 방식 (코사인 거리 사용)\n",
    "            on_disk=True  # 원본 벡터를 디스크에 저장하여 유지\n",
    "        ),\n",
    "        quantization_config=ScalarQuantization(\n",
    "            scalar=ScalarQuantizationConfig(\n",
    "                type=ScalarType.INT8,  # int8 타입으로 양자화\n",
    "                always_ram=True  # 양자화된 벡터를 RAM에 유지하여 빠른 검색 지원\n",
    "            )\n",
    "        )\n",
    "    )\n",
    "    print(f\"Qdrant 컬렉션 '{collection_name}' 생성 완료!\")"
   ]
  },
  {
   "cell_type": "code",
   "execution_count": 5,
   "id": "6ffbf5f8-b424-42d6-8d01-c8868fb65a10",
   "metadata": {},
   "outputs": [],
   "source": [
    "# 임베딩 모델 로드\n",
    "embeddings = HuggingFaceEmbeddings(model_name=\"sentence-transformers/all-MiniLM-L6-v2\")"
   ]
  },
  {
   "cell_type": "code",
   "execution_count": 6,
   "id": "ebf85a5c-4208-4a33-9344-b5811be97a3d",
   "metadata": {},
   "outputs": [],
   "source": [
    "# Qdrant 기반 벡터 저장소 생성\n",
    "vectorstore = QdrantVectorStore(\n",
    "    client=qdrant_client,\n",
    "    collection_name=collection_name,\n",
    "    embedding=embeddings\n",
    ")"
   ]
  },
  {
   "cell_type": "code",
   "execution_count": 7,
   "id": "d358ef84-7d41-4ed7-9ddb-026caf8d79fa",
   "metadata": {},
   "outputs": [
    {
     "name": "stdout",
     "output_type": "stream",
     "text": [
      "Qdrant에 벡터 저장 완료!\n"
     ]
    }
   ],
   "source": [
    "# 샘플 텍스트 및 메타데이터\n",
    "texts = [\n",
    "    \"Hello World\",\n",
    "    \"LangChain is great!\",\n",
    "    \"Vector databases are useful\",\n",
    "    \"Qdrant is a fast vector DB\"\n",
    "]\n",
    "metadata = [{\"source\": f\"text{i+1}\"} for i in range(len(texts))]\n",
    "\n",
    "# 텍스트를 벡터로 변환 후 저장\n",
    "vectorstore.add_texts(texts, metadatas=metadata)\n",
    "print(\"Qdrant에 벡터 저장 완료!\")"
   ]
  },
  {
   "cell_type": "code",
   "execution_count": 8,
   "id": "8234f3e1-0bf7-4290-8cd7-0e22de2dbed8",
   "metadata": {},
   "outputs": [
    {
     "name": "stdout",
     "output_type": "stream",
     "text": [
      "'LangChain' 검색 결과:\n",
      "1. 문서 내용: LangChain is great!, 메타데이터: {'source': 'text2', '_id': 'e12dc91c-658a-4ee8-807f-ee5a8e3cb4ff', '_collection_name': 'ex10_quantized_vectors'}\n",
      "2. 문서 내용: Hello World, 메타데이터: {'source': 'text1', '_id': '781a5fa4-317a-4110-9831-4157d5bc4713', '_collection_name': 'ex10_quantized_vectors'}\n"
     ]
    }
   ],
   "source": [
    "# 검색을 위한 쿼리 텍스트 설정\n",
    "query_text = \"LangChain\"\n",
    "\n",
    "# 유사한 벡터 검색 실행 (상위 2개 검색)\n",
    "search_results = vectorstore.similarity_search(query_text, k=2)\n",
    "\n",
    "# 검색 결과 출력\n",
    "print(f\"'{query_text}' 검색 결과:\")\n",
    "for i, doc in enumerate(search_results):\n",
    "    print(f\"{i+1}. 문서 내용: {doc.page_content}, 메타데이터: {doc.metadata}\")\n"
   ]
  }
 ],
 "metadata": {
  "kernelspec": {
   "display_name": "Python 3 (ipykernel)",
   "language": "python",
   "name": "python3"
  },
  "language_info": {
   "codemirror_mode": {
    "name": "ipython",
    "version": 3
   },
   "file_extension": ".py",
   "mimetype": "text/x-python",
   "name": "python",
   "nbconvert_exporter": "python",
   "pygments_lexer": "ipython3",
   "version": "3.12.3"
  }
 },
 "nbformat": 4,
 "nbformat_minor": 5
}
