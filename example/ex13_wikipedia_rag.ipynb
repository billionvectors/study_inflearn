{
 "cells": [
  {
   "cell_type": "markdown",
   "id": "528201c6-e0dd-4278-a370-13a566296b23",
   "metadata": {},
   "source": [
    "## 준비하기\n",
    "1. 아래 예제를 실행하기 위해서는 사전에 ./setup.sh 파일을 실행하거나 ./start_notebook.sh 로 노트북을 구동하여 의존성 라이브러리들을 미리 설치해두셔야 합니다.\n",
    "2. qdrant서버가 떠 있어야 정상 동작합니다. ./start_qdrant.sh 를 실행하여 qdrant 서버를 띄워주세요."
   ]
  },
  {
   "cell_type": "markdown",
   "id": "6ebf762d-637b-4fff-bc30-fc4aaac7cf4d",
   "metadata": {},
   "source": [
    "## 목적:\n",
    "- 위키피디아에서 데이터를 가져와 Qdrant를 활용한 RAG 검색 시스템 구축\n",
    "- 벡터 검색을 사용하여 GPT 모델이 문서를 기반으로 더 정확한 응답을 생성\n",
    "\n",
    "## 왜 필요한가?\n",
    "- 문서를 벡터로 변환하여 유사도 기반 검색을 수행할 수 있음\n",
    "- LLM 기반 질의응답 시스템의 정확도를 향상시킴\n",
    "\n",
    "## 주요 개념:\n",
    "- **RAG (Retrieval-Augmented Generation)**: 검색된 문서를 바탕으로 AI 모델이 답변을 생성하는 기술\n",
    "- **위키피디아 데이터 로드**: 공공 데이터를 활용하여 RAG 성능 테스트 가능"
   ]
  },
  {
   "cell_type": "code",
   "execution_count": 1,
   "id": "7561bafe-9d27-482b-9c5d-94862444b4c6",
   "metadata": {},
   "outputs": [],
   "source": [
    "# 라이브러리 로딩 (아래 부분에서 오류가 발생하면 pip -r ./requirements.txt 로 의존성을 설치해주세요)\n",
    "import os\n",
    "from langchain.document_loaders import WikipediaLoader\n",
    "from langchain.embeddings import SentenceTransformerEmbeddings\n",
    "from langchain.vectorstores import Qdrant\n",
    "from qdrant_client import QdrantClient\n",
    "from qdrant_client.models import VectorParams, Distance\n",
    "from langchain.llms import OpenAI\n",
    "from langchain.chains import RetrievalQA"
   ]
  },
  {
   "cell_type": "code",
   "execution_count": 2,
   "id": "83599a6b-cda5-4e8c-8d5c-a7109935691b",
   "metadata": {},
   "outputs": [],
   "source": [
    "# Qdrant 클라이언트 설정\n",
    "qdrant_client = QdrantClient(host=\"localhost\", port=6333)\n",
    "collection_name = \"ex13_wiki_vectors\"\n",
    "\n",
    "# Qdrant 컬렉션 생성 (없을 경우 자동 생성)\n",
    "if collection_name not in qdrant_client.get_collections().collections:\n",
    "    qdrant_client.create_collection(\n",
    "        collection_name=collection_name,\n",
    "        vectors_config=VectorParams(size=384, distance=Distance.COSINE)  # 384는 MiniLM-L6-v2 임베딩 차원 수\n",
    "    )"
   ]
  },
  {
   "cell_type": "code",
   "execution_count": 3,
   "id": "d29a9b0b-192d-4316-a320-2a8a4b454a98",
   "metadata": {},
   "outputs": [
    {
     "name": "stderr",
     "output_type": "stream",
     "text": [
      "/tmp/ipykernel_169301/3947042695.py:2: LangChainDeprecationWarning: The class `HuggingFaceEmbeddings` was deprecated in LangChain 0.2.2 and will be removed in 1.0. An updated version of the class exists in the :class:`~langchain-huggingface package and should be used instead. To use it run `pip install -U :class:`~langchain-huggingface` and import as `from :class:`~langchain_huggingface import HuggingFaceEmbeddings``.\n",
      "  embeddings = SentenceTransformerEmbeddings(model_name=\"all-MiniLM-L6-v2\")\n"
     ]
    }
   ],
   "source": [
    "# LangChain 임베딩 설정\n",
    "embeddings = SentenceTransformerEmbeddings(model_name=\"all-MiniLM-L6-v2\")"
   ]
  },
  {
   "cell_type": "code",
   "execution_count": 4,
   "id": "d5b7e124-7c36-41d7-b787-1eac4172de99",
   "metadata": {},
   "outputs": [
    {
     "name": "stderr",
     "output_type": "stream",
     "text": [
      "/home/psbreeze/billionvectors/study/study_inflearn_dev/venv/lib/python3.12/site-packages/wikipedia/wikipedia.py:389: GuessedAtParserWarning: No parser was explicitly specified, so I'm using the best available HTML parser for this system (\"html.parser\"). This usually isn't a problem, but if you run this code on another system, or in a different virtual environment, it may use a different parser and behave differently.\n",
      "\n",
      "The code that caused this warning is on line 389 of the file /home/psbreeze/billionvectors/study/study_inflearn_dev/venv/lib/python3.12/site-packages/wikipedia/wikipedia.py. To get rid of this warning, pass the additional argument 'features=\"html.parser\"' to the BeautifulSoup constructor.\n",
      "\n",
      "  lis = BeautifulSoup(html).find_all('li')\n"
     ]
    }
   ],
   "source": [
    "# 위키피디아 문서 로드\n",
    "loader = WikipediaLoader(query=\"Vector database\", lang=\"en\")\n",
    "docs = loader.load()"
   ]
  },
  {
   "cell_type": "code",
   "execution_count": 5,
   "id": "7d9fea83-4f27-4f32-9aad-a80fe7ce593a",
   "metadata": {},
   "outputs": [
    {
     "name": "stderr",
     "output_type": "stream",
     "text": [
      "/tmp/ipykernel_169301/3955492599.py:2: LangChainDeprecationWarning: The class `Qdrant` was deprecated in LangChain 0.0.37 and will be removed in 1.0. An updated version of the class exists in the :class:`~langchain-qdrant package and should be used instead. To use it run `pip install -U :class:`~langchain-qdrant` and import as `from :class:`~langchain_qdrant import Qdrant``.\n",
      "  vectorstore = Qdrant(\n"
     ]
    },
    {
     "data": {
      "text/plain": [
       "['5227b6957c2744c3afb8d1592deea269',\n",
       " 'dcff8d12a9c241a9bce3a47523f60c98',\n",
       " 'b4fcb7175813499d89d1dcfeb7de367e',\n",
       " '115c7a62da0c486bab75b63fa0cbccf1',\n",
       " '850598bbb1c744b698ee6640111c752f',\n",
       " '4e3e34ddca72448d92da9124774261e3',\n",
       " '3273f569288a4e8d9866eeae52f50512',\n",
       " 'ce9fd3915ef14de08040a3c861ebecda',\n",
       " '4fe34465c5164ed6b0d15afee46bf5e2',\n",
       " 'c5726888e5024d11a07f55a434d97877',\n",
       " 'b7e7d44afb32416394e6a3373b7e8ef8',\n",
       " 'ef51bc5a86e84d649878c0e0992c9c5e',\n",
       " 'dfb3cc6d1b4248dbb08eebd33aba2929',\n",
       " '2e9b0859580a42289832ac3ac29957f9',\n",
       " '36d136760a1947fab884886cd1ae2da6',\n",
       " 'bdc9c0d6257d4ebbaed036469c331de6',\n",
       " '6969e502084d4eb4be4a42bdf501820f',\n",
       " '34088152af8746cebf621bc8d321a9f9',\n",
       " '415811e87e924033a30ba86f13f9f336',\n",
       " 'd5cadbd791a0417ea9c0b510fd5cd256',\n",
       " '03eb43e7f7624ea28d953e1017fc524c',\n",
       " '4c17bc80567e49feb1d5b111b37f0a9c',\n",
       " '30b6cbb4553547d4a968e8ebfe82ed37',\n",
       " '49effa5a44534e0eba83b4893dac03ae']"
      ]
     },
     "execution_count": 5,
     "metadata": {},
     "output_type": "execute_result"
    }
   ],
   "source": [
    "# Qdrant 벡터 저장소 설정\n",
    "vectorstore = Qdrant(\n",
    "    client=qdrant_client,\n",
    "    collection_name=collection_name,\n",
    "    embeddings=embeddings\n",
    ")\n",
    "\n",
    "# 위키피디아 문서 임베딩 후 Qdrant에 저장\n",
    "vectorstore.add_documents(docs)"
   ]
  },
  {
   "cell_type": "code",
   "execution_count": 6,
   "id": "f40c5c3e-bd37-45d4-8d89-fa6a6c307a63",
   "metadata": {},
   "outputs": [
    {
     "name": "stderr",
     "output_type": "stream",
     "text": [
      "/tmp/ipykernel_169301/2245453385.py:5: LangChainDeprecationWarning: The class `OpenAI` was deprecated in LangChain 0.0.10 and will be removed in 1.0. An updated version of the class exists in the :class:`~langchain-openai package and should be used instead. To use it run `pip install -U :class:`~langchain-openai` and import as `from :class:`~langchain_openai import OpenAI``.\n",
      "  llm = OpenAI(temperature=0.7, openai_api_key=openai_api_key)\n"
     ]
    }
   ],
   "source": [
    "# OpenAI API 키 설정 (환경 변수에서 가져오거나 기본값 설정)\n",
    "openai_api_key = os.environ.get(\"OPENAI_API_KEY\", \"your_api_key\")\n",
    "\n",
    "# OpenAI LLM 설정\n",
    "llm = OpenAI(temperature=0.7, openai_api_key=openai_api_key)"
   ]
  },
  {
   "cell_type": "code",
   "execution_count": 7,
   "id": "3daf7910-c3f3-4508-abe3-99e40b6944d0",
   "metadata": {},
   "outputs": [],
   "source": [
    "# RAG 검색을 위한 체인 생성\n",
    "retriever = vectorstore.as_retriever()\n",
    "\n",
    "qa_chain = RetrievalQA.from_chain_type(\n",
    "    llm=llm,\n",
    "    chain_type=\"stuff\",  # \"stuff\", \"map_reduce\", \"refine\" 중 선택 가능\n",
    "    retriever=retriever\n",
    ")\n"
   ]
  },
  {
   "cell_type": "code",
   "execution_count": 8,
   "id": "e94ca21f-734f-4dee-a1d7-a554fec6703b",
   "metadata": {},
   "outputs": [
    {
     "name": "stderr",
     "output_type": "stream",
     "text": [
      "/tmp/ipykernel_169301/3769801674.py:2: LangChainDeprecationWarning: The method `Chain.run` was deprecated in langchain 0.1.0 and will be removed in 1.0. Use :meth:`~invoke` instead.\n",
      "  response = qa_chain.run(question)\n"
     ]
    },
    {
     "name": "stdout",
     "output_type": "stream",
     "text": [
      "LLM 응답:  A vector database is a type of database that can store and search for data in the form of vectors, which are mathematical representations of data in a high-dimensional space. These databases are commonly used for similarity search, semantic search, multi-modal search, recommendation engines, and other applications that involve finding similar or related data items. They typically implement advanced algorithms, such as Approximate Nearest Neighbor algorithms, to efficiently search for and retrieve relevant data. Vector databases are also used in conjunction with machine learning methods to compute feature vectors and improve the performance of large language models. \n"
     ]
    }
   ],
   "source": [
    "question = \"What is a vector database?\"\n",
    "response = qa_chain.run(question)\n",
    "print(\"LLM 응답:\", response)"
   ]
  },
  {
   "cell_type": "code",
   "execution_count": null,
   "id": "87cf181a-b2dc-4591-8f53-edc9b8ff923e",
   "metadata": {},
   "outputs": [],
   "source": []
  }
 ],
 "metadata": {
  "kernelspec": {
   "display_name": "Python 3 (ipykernel)",
   "language": "python",
   "name": "python3"
  },
  "language_info": {
   "codemirror_mode": {
    "name": "ipython",
    "version": 3
   },
   "file_extension": ".py",
   "mimetype": "text/x-python",
   "name": "python",
   "nbconvert_exporter": "python",
   "pygments_lexer": "ipython3",
   "version": "3.12.3"
  }
 },
 "nbformat": 4,
 "nbformat_minor": 5
}
