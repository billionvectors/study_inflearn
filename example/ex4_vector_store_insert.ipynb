{
 "cells": [
  {
   "cell_type": "markdown",
   "id": "17eede3b-6e2d-4dba-a66d-16dda59aef45",
   "metadata": {},
   "source": [
    "## 준비하기\n",
    "1. 아래 예제를 실행하기 위해서는 사전에 ./setup.sh 파일을 실행하거나 ./start_notebook.sh 로 노트북을 구동하여 의존성 라이브러리들을 미리 설치해두셔야 합니다.\n",
    "2. qdrant서버가 떠 있어야 정상 동작합니다. ./start_qdrant.sh 를 실행하여 qdrant 서버를 띄워주세요.\n",
    "3. pinecone api 키가 필요합니다. api발급 방법은 https://app.pinecone.io/ 에서 확인 해주세요. 그리고 테스트 이후 pinecone 인덱스를 반드시 삭제해야 합니다.\n",
    "4. milvus서버가 떠 있어야 정상 동작합니다. ./start_milvus.sh 를 실행하여 milvus 서버를 띄워주세요."
   ]
  },
  {
   "cell_type": "markdown",
   "id": "a3002b74-e98b-4fb2-b85c-9b295aaea274",
   "metadata": {},
   "source": [
    "## 목적:\n",
    "- Pinecone, Milvus, Qdrant 세 가지 벡터 데이터베이스에 동일한 벡터를 삽입\n",
    "- 여러 벡터 검색 시스템을 비교하고 통합할 때 유용함\n",
    "\n",
    "## 왜 필요한가?\n",
    "- 서로 다른 벡터 데이터베이스의 성능을 비교할 수 있음\n",
    "- 특정 벡터 검색 시스템을 선택할 때 도움이 됨\n",
    "\n",
    "## 주요 개념:\n",
    "- **Pinecone**: 클라우드 기반 벡터 검색 서비스, 빠른 검색 및 확장성 제공\n",
    "- **Milvus**: 대용량 벡터 검색을 지원하는 오픈소스 벡터 DB\n",
    "- **Qdrant**: 속도와 성능을 고려한 오픈소스 벡터 검색 데이터베이스"
   ]
  },
  {
   "cell_type": "code",
   "execution_count": 1,
   "id": "7deb73b5-a963-4a10-8138-ed2ee51f0f8a",
   "metadata": {},
   "outputs": [],
   "source": [
    "# 라이브러리 로딩 (아래 부분에서 오류가 발생하면 pip -r ./requirements.txt 로 의존성을 설치해주세요)\n",
    "import os\n",
    "from pinecone import Pinecone, ServerlessSpec\n",
    "from pymilvus import connections, FieldSchema, CollectionSchema, DataType, Collection\n",
    "from qdrant_client import QdrantClient, models\n",
    "from qdrant_client.models import Distance, VectorParams\n",
    "from langchain_huggingface import HuggingFaceEmbeddings"
   ]
  },
  {
   "cell_type": "code",
   "execution_count": 3,
   "id": "9b10a79b-940d-4226-ba9b-abb6521cddc4",
   "metadata": {},
   "outputs": [],
   "source": [
    "# 환경 변수에서 Pinecone API 키 가져오기\n",
    "pinecone_api_key = os.environ.get(\"PINECONE_API_KEY\", \"your_api_key\")\n",
    "\n",
    "# Pinecone 설정\n",
    "pc = Pinecone(api_key=pinecone_api_key)\n",
    "index_name = \"ex4-sample-index\"\n",
    "if index_name not in pc.list_indexes().names():\n",
    "    pc.create_index(\n",
    "        name=index_name, \n",
    "        dimension=384,\n",
    "        metric='euclidean',\n",
    "        spec=ServerlessSpec(cloud='aws', region='us-east-1')\n",
    "    )\n",
    "pinecone_index = pc.Index(index_name)"
   ]
  },
  {
   "cell_type": "code",
   "execution_count": 4,
   "id": "b8ea1561-33cb-4fa2-b892-b69c59f06928",
   "metadata": {},
   "outputs": [],
   "source": [
    "# Qdrant 연결\n",
    "qdrant_client = QdrantClient(host=\"localhost\", port=6333)\n",
    "collection_name = \"ex4_sample_vectors\"\n",
    "\n",
    "# 🚀 Qdrant 컬렉션 생성 (없을 경우 자동 생성)\n",
    "if not qdrant_client.collection_exists(collection_name):\n",
    "    qdrant_client.create_collection(\n",
    "        collection_name=collection_name,\n",
    "        vectors_config=VectorParams(size=384, distance=Distance.COSINE)  # 384는 임베딩 차원 수\n",
    "    )"
   ]
  },
  {
   "cell_type": "code",
   "execution_count": 5,
   "id": "d89747f0-44f1-47ac-ba2b-422f4609484d",
   "metadata": {},
   "outputs": [],
   "source": [
    "# Milvus 연결 및 컬렉션 생성\n",
    "connections.connect(\"default\", host=\"localhost\", port=\"19530\")\n",
    "milvus_schema = CollectionSchema(fields=[\n",
    "    FieldSchema(name=\"id\", dtype=DataType.INT64, is_primary=True, auto_id=True),  # auto_id 활성화\n",
    "    FieldSchema(name=\"vector\", dtype=DataType.FLOAT_VECTOR, dim=384)\n",
    "])\n",
    "milvus_collection = Collection(name=collection_name, schema=milvus_schema)"
   ]
  },
  {
   "cell_type": "code",
   "execution_count": 6,
   "id": "f37ea319-4d69-4c6c-b33a-f70165b23366",
   "metadata": {},
   "outputs": [],
   "source": [
    "# LangChain Sentence Transformers 사용\n",
    "embeddings = HuggingFaceEmbeddings(model_name=\"sentence-transformers/all-MiniLM-L6-v2\")\n",
    "embedding_vector = embeddings.embed_query(\"Sample text\")\n",
    "\n",
    "if embedding_vector is None:\n",
    "    raise ValueError(\"오류: 생성된 임베딩 벡터가 None입니다. 모델이 올바르게 로드되었는지 확인하세요.\")"
   ]
  },
  {
   "cell_type": "code",
   "execution_count": 7,
   "id": "563845d0-8504-48c3-bd15-1c055692959c",
   "metadata": {},
   "outputs": [
    {
     "data": {
      "text/plain": [
       "UpdateResult(operation_id=0, status=<UpdateStatus.COMPLETED: 'completed'>)"
      ]
     },
     "execution_count": 7,
     "metadata": {},
     "output_type": "execute_result"
    }
   ],
   "source": [
    "# Qdrant에 삽입\n",
    "qdrant_client.upsert(\n",
    "    collection_name=collection_name,\n",
    "    points=[models.PointStruct(id=1, vector=embedding_vector)]\n",
    ")"
   ]
  },
  {
   "cell_type": "code",
   "execution_count": 8,
   "id": "a918bd64-e6ca-4226-a805-f01213f7586c",
   "metadata": {},
   "outputs": [
    {
     "data": {
      "text/plain": [
       "{'upserted_count': 1}"
      ]
     },
     "execution_count": 8,
     "metadata": {},
     "output_type": "execute_result"
    }
   ],
   "source": [
    "# Pinecone에 삽입\n",
    "pinecone_index.upsert(vectors=[(\"id1\", embedding_vector)])"
   ]
  },
  {
   "cell_type": "code",
   "execution_count": 9,
   "id": "cce351ba-8ab1-4127-833f-1f2474a5e0d3",
   "metadata": {},
   "outputs": [
    {
     "name": "stdout",
     "output_type": "stream",
     "text": [
      "Qdrant, Pinecone, Milvus에 벡터 저장 완료!\n"
     ]
    }
   ],
   "source": [
    "# Milvus에 삽입\n",
    "milvus_collection.insert([[embedding_vector]])\n",
    "\n",
    "print(\"Qdrant, Pinecone, Milvus에 벡터 저장 완료!\")"
   ]
  },
  {
   "cell_type": "code",
   "execution_count": 10,
   "id": "0454d7a1-555b-4ff7-9d0a-ca395e1941d3",
   "metadata": {},
   "outputs": [
    {
     "name": "stdout",
     "output_type": "stream",
     "text": [
      "Qdrant 컬렉션 삭제 완료\n",
      "Pinecone 인덱스 삭제 완료\n",
      "Milvus 컬렉션 삭제 완료\n"
     ]
    }
   ],
   "source": [
    "# 테스트 완료 후 인덱스 삭제\n",
    "def cleanup():\n",
    "    # Qdrant 컬렉션 삭제\n",
    "    qdrant_client.delete_collection(collection_name=collection_name)\n",
    "    print(\"Qdrant 컬렉션 삭제 완료\")\n",
    "\n",
    "    # Pinecone 인덱스 삭제\n",
    "    pc.delete_index(index_name)\n",
    "    print(\"Pinecone 인덱스 삭제 완료\")\n",
    "\n",
    "    # Milvus 컬렉션 삭제\n",
    "    milvus_collection.drop()\n",
    "    print(\"Milvus 컬렉션 삭제 완료\")\n",
    "\n",
    "# 정리 실행\n",
    "cleanup()\n",
    "\n"
   ]
  }
 ],
 "metadata": {
  "kernelspec": {
   "display_name": "Python 3 (ipykernel)",
   "language": "python",
   "name": "python3"
  },
  "language_info": {
   "codemirror_mode": {
    "name": "ipython",
    "version": 3
   },
   "file_extension": ".py",
   "mimetype": "text/x-python",
   "name": "python",
   "nbconvert_exporter": "python",
   "pygments_lexer": "ipython3",
   "version": "3.12.3"
  }
 },
 "nbformat": 4,
 "nbformat_minor": 5
}
