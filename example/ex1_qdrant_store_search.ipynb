{
 "cells": [
  {
   "cell_type": "markdown",
   "id": "db4c942d-8a86-4d93-a193-bb7ba1d2d70c",
   "metadata": {},
   "source": [
    "## 준비하기\n",
    "1. 아래 예제를 실행하기 위해서는 사전에 `./setup.sh` 파일을 실행하거나 `./start_notebook.sh` 로 노트북을 구동하여 의존성 라이브러리들을 미리 설치해두셔야 합니다.\n",
    "2. qdrant 서버가 떠 있어야 정상 동작합니다. `./start_qdrant.sh` 를 실행하여 qdrant 서버를 띄워주세요."
   ]
  },
  {
   "cell_type": "markdown",
   "id": "fc9ebca0-b2fb-4665-a20e-f196d2f65ded",
   "metadata": {},
   "source": [
    "## 목적:\n",
    "- LangChain과 Qdrant를 사용하여 벡터 데이터 저장 및 검색\n",
    "- Qdrant에 텍스트 데이터를 벡터로 변환하여 저장\n",
    "- 사용자가 입력한 텍스트와 유사한 데이터를 검색\n",
    "\n",
    "## 왜 필요한가?\n",
    "- 벡터 기반 검색은 문서 검색, 챗봇, 추천 시스템 등에 필수적임\n",
    "- Qdrant은 고성능 벡터 검색을 지원하는 데이터베이스임\n",
    "\n",
    "## 주요 개념:\n",
    "- **LangChain**: 자연어 처리(NLP)와 벡터 검색을 쉽게 결합할 수 있는 라이브러리\n",
    "- **Qdrant**: 밀집 벡터를 저장하고 빠르게 검색할 수 있는 오픈소스 벡터 데이터베이스\n",
    "- **벡터 검색**: 문서의 의미를 벡터로 변환하여 유사도를 기반으로 검색하는 방법"
   ]
  },
  {
   "cell_type": "code",
   "execution_count": 1,
   "id": "82f3086b-825c-4928-8a6c-715b954bc2e4",
   "metadata": {},
   "outputs": [],
   "source": [
    "# 라이브러리 로딩 (아래 부분에서 오류가 발생하면 pip -r ./requirements.txt 로 의존성을 설치해주세요)\n",
    "from langchain_huggingface import HuggingFaceEmbeddings\n",
    "from langchain_qdrant import QdrantVectorStore\n",
    "from qdrant_client import QdrantClient\n",
    "from qdrant_client.models import Distance, VectorParams"
   ]
  },
  {
   "cell_type": "code",
   "execution_count": 2,
   "id": "93c9cfbd-47f8-48f3-93d5-84ec1470d72d",
   "metadata": {},
   "outputs": [],
   "source": [
    "# Qdrant 서버 연결 (여기서 오류가 발생한다면 qdrant 서버를 띄워주세요.)\n",
    "qdrant_client = QdrantClient(host=\"localhost\", port=6333)"
   ]
  },
  {
   "cell_type": "code",
   "execution_count": 3,
   "id": "41763ebe-f840-4063-bd8c-3e9b2d05b9a6",
   "metadata": {},
   "outputs": [
    {
     "name": "stderr",
     "output_type": "stream",
     "text": [
      "/tmp/ipykernel_26400/3995727476.py:5: DeprecationWarning: `recreate_collection` method is deprecated and will be removed in the future. Use `collection_exists` to check collection existence and `create_collection` instead.\n",
      "  qdrant_client.recreate_collection(\n"
     ]
    },
    {
     "data": {
      "text/plain": [
       "True"
      ]
     },
     "execution_count": 3,
     "metadata": {},
     "output_type": "execute_result"
    }
   ],
   "source": [
    "# 컬렉션 이름 설정\n",
    "collection_name = \"ex_1_sample_vectors\"\n",
    "\n",
    "# Qdrant 컬렉션 생성 (없을 경우 자동 생성)\n",
    "qdrant_client.recreate_collection(\n",
    "    collection_name=collection_name,\n",
    "    vectors_config=VectorParams(size=384, distance=Distance.COSINE)  # 384는 임베딩 차원 수\n",
    ")"
   ]
  },
  {
   "cell_type": "code",
   "execution_count": 4,
   "id": "d419d6b7-43a6-4b13-b503-ca98276143bf",
   "metadata": {},
   "outputs": [],
   "source": [
    "# 임베딩 모델 로드\n",
    "embeddings = HuggingFaceEmbeddings(model_name=\"sentence-transformers/all-MiniLM-L6-v2\")"
   ]
  },
  {
   "cell_type": "code",
   "execution_count": 5,
   "id": "8a81b6c5-864e-48a2-8f34-734ea0840609",
   "metadata": {},
   "outputs": [
    {
     "data": {
      "text/plain": [
       "['507063b39e004cc785bfbf49a5a62d47',\n",
       " '00fa8c1ba323403a95e970b9f816720d',\n",
       " '25547310157343d0a26c9025122eae31',\n",
       " '7e6b18ee8cd34f10a00b6a8342e892d2']"
      ]
     },
     "execution_count": 5,
     "metadata": {},
     "output_type": "execute_result"
    }
   ],
   "source": [
    "# Qdrant Vector Store 객체 생성\n",
    "vectorstore = QdrantVectorStore(\n",
    "    client=qdrant_client,\n",
    "    collection_name=collection_name,\n",
    "    embedding=embeddings\n",
    ")\n",
    "\n",
    "# 샘플 텍스트 및 메타데이터 추가\n",
    "texts = [\n",
    "    \"Hello World\",\n",
    "    \"LangChain is great!\",\n",
    "    \"Vector databases are useful\",\n",
    "    \"Qdrant is a fast vector DB\"\n",
    "]\n",
    "metadata = [{\"source\": \"text1\"}, {\"source\": \"text2\"}, {\"source\": \"text3\"}, {\"source\": \"text4\"}]\n",
    "\n",
    "# 벡터 저장\n",
    "vectorstore.add_texts(texts=texts, metadatas=metadata)"
   ]
  },
  {
   "cell_type": "code",
   "execution_count": 6,
   "id": "18353abc-7226-4b41-927d-882c9f6dbcc7",
   "metadata": {},
   "outputs": [
    {
     "name": "stdout",
     "output_type": "stream",
     "text": [
      "'LangChain' 검색 결과:\n",
      "1. page_content='LangChain is great!' metadata={'source': 'text2', '_id': '00fa8c1b-a323-403a-95e9-70b9f816720d', '_collection_name': 'ex_1_sample_vectors'}\n",
      "2. page_content='Hello World' metadata={'source': 'text1', '_id': '507063b3-9e00-4cc7-85bf-bf49a5a62d47', '_collection_name': 'ex_1_sample_vectors'}\n"
     ]
    }
   ],
   "source": [
    "# 검색 실행\n",
    "query_text = \"LangChain\"\n",
    "docs = vectorstore.similarity_search(query_text, k=2)\n",
    "\n",
    "# 검색 결과 출력\n",
    "print(f\"'{query_text}' 검색 결과:\")\n",
    "for i, doc in enumerate(docs):\n",
    "    print(f\"{i+1}. {doc}\")"
   ]
  }
 ],
 "metadata": {
  "kernelspec": {
   "display_name": "Python 3 (ipykernel)",
   "language": "python",
   "name": "python3"
  },
  "language_info": {
   "codemirror_mode": {
    "name": "ipython",
    "version": 3
   },
   "file_extension": ".py",
   "mimetype": "text/x-python",
   "name": "python",
   "nbconvert_exporter": "python",
   "pygments_lexer": "ipython3",
   "version": "3.12.3"
  }
 },
 "nbformat": 4,
 "nbformat_minor": 5
}
