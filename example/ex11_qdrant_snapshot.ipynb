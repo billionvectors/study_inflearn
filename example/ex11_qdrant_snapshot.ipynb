{
 "cells": [
  {
   "cell_type": "markdown",
   "id": "44e3e3ae-cc17-412a-b355-ffee111b666f",
   "metadata": {},
   "source": [
    "## 준비하기\n",
    "1. 아래 예제를 실행하기 위해서는 사전에 ./setup.sh 파일을 실행하거나 ./start_notebook.sh 로 노트북을 구동하여 의존성 라이브러리들을 미리 설치해두셔야 합니다.\n",
    "2. qdrant서버가 떠 있어야 정상 동작합니다. ./start_qdrant.sh 를 실행하여 qdrant 서버를 띄워주세요."
   ]
  },
  {
   "cell_type": "markdown",
   "id": "0f9007c9-692e-48f6-9d05-fa43bcb9c793",
   "metadata": {},
   "source": [
    "## 목적:\n",
    "- Qdrant 데이터베이스의 스냅샷을 생성하고, 필요할 때 복구 후 삭제\n",
    "\n",
    "## 왜 필요한가?\n",
    "- 데이터베이스를 안전하게 백업하고 필요할 때 빠르게 복원 가능\n",
    "- 시스템 장애 발생 시 데이터 손실을 방지\n",
    "\n",
    "## 주요 개념:\n",
    "- **스냅샷(Snapshot)**: 데이터베이스의 특정 시점 상태를 저장하는 기능\n",
    "- **백업 및 복구**: 예상치 못한 데이터 손실을 방지하고 시스템을 복구하는 과정"
   ]
  },
  {
   "cell_type": "code",
   "execution_count": 1,
   "id": "5d4389ce-619f-44cf-9632-5ce6a64be8ea",
   "metadata": {},
   "outputs": [],
   "source": [
    "# 라이브러리 로딩 (아래 부분에서 오류가 발생하면 pip -r ./requirements.txt 로 의존성을 설치해주세요)\n",
    "from qdrant_client import QdrantClient\n",
    "from qdrant_client import models"
   ]
  },
  {
   "cell_type": "code",
   "execution_count": 2,
   "id": "5fae591c-74b4-4c39-9657-de0f55d244e7",
   "metadata": {},
   "outputs": [],
   "source": [
    "# Qdrant 클라이언트 설정\n",
    "qdrant_client = QdrantClient(host=\"localhost\", port=6333)"
   ]
  },
  {
   "cell_type": "code",
   "execution_count": 3,
   "id": "6af4242d-4c2c-457e-9ea9-5665ea50d36c",
   "metadata": {},
   "outputs": [
    {
     "name": "stdout",
     "output_type": "stream",
     "text": [
      "컬렉션 `ex11_sample_vectors` 생성 완료!\n"
     ]
    }
   ],
   "source": [
    "collection_name = \"ex11_sample_vectors\"\n",
    "\n",
    "# 0. 컬렉션 생성 (이미 존재하면 에러 발생 방지)\n",
    "existing_collections = [c.name for c in qdrant_client.get_collections().collections]\n",
    "if collection_name not in existing_collections:\n",
    "    qdrant_client.create_collection(\n",
    "        collection_name=collection_name,\n",
    "        vectors_config=models.VectorParams(size=128, distance=models.Distance.COSINE),\n",
    "    )\n",
    "    print(f\"컬렉션 `{collection_name}` 생성 완료!\")\n",
    "else:\n",
    "    print(f\"컬렉션 `{collection_name}` 이미 존재함.\")"
   ]
  },
  {
   "cell_type": "code",
   "execution_count": 4,
   "id": "2fc47e9c-4665-4eb1-a0b5-e5128ceaf33e",
   "metadata": {},
   "outputs": [
    {
     "name": "stdout",
     "output_type": "stream",
     "text": [
      "스냅샷 생성 완료: ex11_sample_vectors-4246091874186851-2025-02-16-11-13-52.snapshot\n"
     ]
    }
   ],
   "source": [
    "# 1. 스냅샷 생성\n",
    "snapshot_info = qdrant_client.create_snapshot(collection_name=collection_name)\n",
    "snapshot_name = snapshot_info.name\n",
    "print(f\"스냅샷 생성 완료: {snapshot_name}\")"
   ]
  },
  {
   "cell_type": "code",
   "execution_count": 5,
   "id": "a3c39b2d-285c-4d6d-9431-c86bee0ae9b0",
   "metadata": {},
   "outputs": [
    {
     "name": "stdout",
     "output_type": "stream",
     "text": [
      "스냅샷 목록:\n",
      "- ex11_sample_vectors-4246091874186851-2025-02-16-11-13-52.snapshot (생성 시간: 2025-02-16T11:13:52, 크기: 509440 bytes)\n"
     ]
    }
   ],
   "source": [
    "# 2. 스냅샷 목록 조회\n",
    "snapshots = qdrant_client.list_snapshots(collection_name=collection_name)\n",
    "print(\"스냅샷 목록:\")\n",
    "for snapshot in snapshots:\n",
    "    print(f\"- {snapshot.name} (생성 시간: {snapshot.creation_time}, 크기: {snapshot.size} bytes)\")"
   ]
  },
  {
   "cell_type": "code",
   "execution_count": 6,
   "id": "a230d9a6-c2e0-44ac-95f2-98f386f03784",
   "metadata": {},
   "outputs": [
    {
     "name": "stdout",
     "output_type": "stream",
     "text": [
      "스냅샷 복구 시도: file:///qdrant/snapshots/ex11_sample_vectors/ex11_sample_vectors-4246091874186851-2025-02-16-11-13-52.snapshot\n",
      "스냅샷 복구 완료!\n"
     ]
    }
   ],
   "source": [
    "# 3. 스냅샷 복구\n",
    "# 스냅샷의 실제 저장 경로 설정\n",
    "snapshot_path = f\"file:///qdrant/snapshots/{collection_name}/{snapshot_name}\"\n",
    "\n",
    "print(f\"스냅샷 복구 시도: {snapshot_path}\")\n",
    "qdrant_client.recover_snapshot(collection_name=collection_name, location=snapshot_path)\n",
    "print(\"스냅샷 복구 완료!\")"
   ]
  },
  {
   "cell_type": "code",
   "execution_count": 7,
   "id": "e1a21711-041b-4576-b7b2-300f24c73ba8",
   "metadata": {},
   "outputs": [
    {
     "name": "stdout",
     "output_type": "stream",
     "text": [
      "스냅샷 삭제 완료: ex11_sample_vectors-4246091874186851-2025-02-16-11-13-52.snapshot\n"
     ]
    }
   ],
   "source": [
    "# 4. 스냅샷 삭제 (복구 후)\n",
    "qdrant_client.delete_snapshot(collection_name=collection_name, snapshot_name=snapshot_name)\n",
    "print(f\"스냅샷 삭제 완료: {snapshot_name}\")\n"
   ]
  }
 ],
 "metadata": {
  "kernelspec": {
   "display_name": "Python 3 (ipykernel)",
   "language": "python",
   "name": "python3"
  },
  "language_info": {
   "codemirror_mode": {
    "name": "ipython",
    "version": 3
   },
   "file_extension": ".py",
   "mimetype": "text/x-python",
   "name": "python",
   "nbconvert_exporter": "python",
   "pygments_lexer": "ipython3",
   "version": "3.12.3"
  }
 },
 "nbformat": 4,
 "nbformat_minor": 5
}
